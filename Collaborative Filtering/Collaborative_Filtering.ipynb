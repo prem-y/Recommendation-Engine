{
 "cells": [
  {
   "cell_type": "code",
   "execution_count": 4,
   "id": "9d747ad3",
   "metadata": {},
   "outputs": [
    {
     "name": "stdout",
     "output_type": "stream",
     "text": [
      "Predicted rating for user A and item 1: 3.00\n",
      "RMSE: 1.58\n"
     ]
    }
   ],
   "source": [
    "import pandas as pd\n",
    "import numpy as np\n",
    "from sklearn.metrics.pairwise import cosine_similarity\n",
    "from sklearn.model_selection import train_test_split\n",
    "\n",
    "# Sample data\n",
    "ratings_dict = {\n",
    "    \"item\": [1, 2, 1, 2, 1, 2, 1, 2, 1],\n",
    "    \"user\": ['A', 'A', 'B', 'B', 'C', 'C', 'D', 'D', 'E'],\n",
    "    \"rating\": [1, 2, 2, 4, 2.5, 4, 4.5, 5, 3],\n",
    "}\n",
    "\n",
    "df = pd.DataFrame(ratings_dict)\n",
    "\n",
    "# Pivot the data to create a user-item matrix\n",
    "user_item_matrix = df.pivot(index='user', columns='item', values='rating')\n",
    "\n",
    "# Normalize the user-item matrix\n",
    "user_item_matrix_norm = user_item_matrix.subtract(user_item_matrix.mean(axis=1), axis=0)\n",
    "\n",
    "# Calculate cosine similarity\n",
    "user_similarity = cosine_similarity(user_item_matrix_norm.fillna(0))\n",
    "user_similarity_df = pd.DataFrame(user_similarity, index=user_item_matrix.index, columns=user_item_matrix.index)\n",
    "\n",
    "def predict_rating(user_id, item_id, user_item_matrix, user_similarity_df):\n",
    "    if item_id not in user_item_matrix.columns:\n",
    "        return np.nan\n",
    "\n",
    "    similar_users = user_similarity_df[user_id].drop(user_id).dropna()\n",
    "    similar_users = similar_users[similar_users > 0]\n",
    "\n",
    "    if similar_users.empty:\n",
    "        return np.nan\n",
    "\n",
    "    similar_user_ratings = user_item_matrix.loc[similar_users.index, item_id]\n",
    "    weighted_sum = np.dot(similar_users, similar_user_ratings.fillna(0))\n",
    "    similarity_sum = similar_users.sum()\n",
    "\n",
    "    if similarity_sum == 0:\n",
    "        return np.nan\n",
    "\n",
    "    return weighted_sum / similarity_sum\n",
    "\n",
    "# Predict ratings for the test set\n",
    "df['predicted_rating'] = df.apply(lambda row: predict_rating(row['user'], row['item'], user_item_matrix, user_similarity_df), axis=1)\n",
    "\n",
    "# Example prediction\n",
    "user_id = 'A'\n",
    "item_id = 1\n",
    "pred = predict_rating(user_id, item_id, user_item_matrix, user_similarity_df)\n",
    "print(f\"Predicted rating for user {user_id} and item {item_id}: {pred:.2f}\")\n",
    "\n",
    "# Calculate RMSE\n",
    "testset = df.dropna(subset=['predicted_rating'])\n",
    "rmse = np.sqrt(((testset['rating'] - testset['predicted_rating']) ** 2).mean())\n",
    "print(f'RMSE: {rmse:.2f}')\n"
   ]
  },
  {
   "cell_type": "code",
   "execution_count": null,
   "id": "386d9a25",
   "metadata": {},
   "outputs": [],
   "source": []
  }
 ],
 "metadata": {
  "kernelspec": {
   "display_name": "Python 3 (ipykernel)",
   "language": "python",
   "name": "python3"
  },
  "language_info": {
   "codemirror_mode": {
    "name": "ipython",
    "version": 3
   },
   "file_extension": ".py",
   "mimetype": "text/x-python",
   "name": "python",
   "nbconvert_exporter": "python",
   "pygments_lexer": "ipython3",
   "version": "3.11.7"
  }
 },
 "nbformat": 4,
 "nbformat_minor": 5
}
